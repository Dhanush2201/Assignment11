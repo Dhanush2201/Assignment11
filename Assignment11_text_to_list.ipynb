{
 "cells": [
  {
   "cell_type": "code",
   "execution_count": 15,
   "metadata": {},
   "outputs": [],
   "source": [
    "f=open(\"demo.txt\",\"w\")\n",
    "f.write(\"namma gitam\" \"\\n\" \"macha man\")\n",
    "\n",
    "f.close()"
   ]
  },
  {
   "cell_type": "code",
   "execution_count": 19,
   "metadata": {},
   "outputs": [
    {
     "name": "stdout",
     "output_type": "stream",
     "text": [
      "['namma gitam\\n', 'macha man']\n"
     ]
    }
   ],
   "source": [
    "mylines = []                       \n",
    "with open ('demo.txt', 'rt') as myfile:\n",
    "    for line in myfile:               \n",
    "        mylines.append(line)    \n",
    "print(mylines)                       "
   ]
  },
  {
   "cell_type": "code",
   "execution_count": null,
   "metadata": {},
   "outputs": [],
   "source": []
  }
 ],
 "metadata": {
  "kernelspec": {
   "display_name": "Python 3",
   "language": "python",
   "name": "python3"
  }
 },
 "nbformat": 4,
 "nbformat_minor": 4
}
